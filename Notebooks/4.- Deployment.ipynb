{
 "cells": [
  {
   "cell_type": "markdown",
   "metadata": {},
   "source": [
    "# 4. Deployment - Local, using Flask"
   ]
  },
  {
   "cell_type": "code",
   "execution_count": 177,
   "metadata": {},
   "outputs": [],
   "source": [
    "from flask import Flask, request, jsonify, render_template\n",
    "import pickle\n",
    "import pandas as pd\n",
    "import re\n",
    "from datetime import datetime \n",
    "import pandas as pd\n",
    "from IPython.display import display\n",
    "\n",
    "# Set the maximum number of rows to display\n",
    "pd.set_option('display.max_rows', None)\n",
    "\n"
   ]
  },
  {
   "cell_type": "markdown",
   "metadata": {},
   "source": [
    "## 4.1 Defining Recommending Engine"
   ]
  },
  {
   "cell_type": "code",
   "execution_count": 178,
   "metadata": {},
   "outputs": [],
   "source": [
    "# Load dataframes needed\n",
    "rules_product_types = pd.read_csv('/Users/elizaclapasmac/Desktop/Repositories/Final Project/Final-Project---LHL/Data/3. Recommendation Engines/Rules Product Types.csv')\n",
    "rules_products = pd.read_csv('/Users/elizaclapasmac/Desktop/Repositories/Final Project/Final-Project---LHL/Data/3. Recommendation Engines/Rules Products.csv')\n",
    "df_with_counts = pd.read_csv('/Users/elizaclapasmac/Desktop/Repositories/Final Project/Final-Project---LHL/Data/3. Recommendation Engines/Transactions Details.csv')\n",
    "\n",
    "# # Convert antecedents and consequents to frozensets containing entire product names\n",
    "# rules_products['antecedents'] = rules_products['antecedents'].apply(lambda x: frozenset([x]))\n",
    "# rules_products['consequents'] = rules_products['consequents'].apply(lambda x: frozenset([x]))\n",
    "\n",
    "# Convert antecedents and consequents to frozensets\n",
    "rules_product_types['antecedents'] = rules_product_types['antecedents'].apply(lambda x: frozenset(eval(x)) if isinstance(x, str) else x)\n",
    "rules_product_types['consequents'] = rules_product_types['consequents'].apply(lambda x: frozenset(eval(x)) if isinstance(x, str) else x)"
   ]
  },
  {
   "cell_type": "code",
   "execution_count": 179,
   "metadata": {},
   "outputs": [
    {
     "data": {
      "text/html": [
       "<div>\n",
       "<style scoped>\n",
       "    .dataframe tbody tr th:only-of-type {\n",
       "        vertical-align: middle;\n",
       "    }\n",
       "\n",
       "    .dataframe tbody tr th {\n",
       "        vertical-align: top;\n",
       "    }\n",
       "\n",
       "    .dataframe thead th {\n",
       "        text-align: right;\n",
       "    }\n",
       "</style>\n",
       "<table border=\"1\" class=\"dataframe\">\n",
       "  <thead>\n",
       "    <tr style=\"text-align: right;\">\n",
       "      <th></th>\n",
       "      <th>antecedents</th>\n",
       "      <th>consequents</th>\n",
       "    </tr>\n",
       "  </thead>\n",
       "  <tbody>\n",
       "    <tr>\n",
       "      <th>0</th>\n",
       "      <td>(crudit platter)</td>\n",
       "      <td>(fruit platter)</td>\n",
       "    </tr>\n",
       "    <tr>\n",
       "      <th>1</th>\n",
       "      <td>(fruit platter)</td>\n",
       "      <td>(crudit platter)</td>\n",
       "    </tr>\n",
       "    <tr>\n",
       "      <th>2</th>\n",
       "      <td>(crudit platter)</td>\n",
       "      <td>(sandwich platter)</td>\n",
       "    </tr>\n",
       "    <tr>\n",
       "      <th>3</th>\n",
       "      <td>(sandwich platter)</td>\n",
       "      <td>(crudit platter)</td>\n",
       "    </tr>\n",
       "    <tr>\n",
       "      <th>4</th>\n",
       "      <td>(scottish shortbread)</td>\n",
       "      <td>(assorted holiday cookies)</td>\n",
       "    </tr>\n",
       "  </tbody>\n",
       "</table>\n",
       "</div>"
      ],
      "text/plain": [
       "             antecedents                 consequents\n",
       "0       (crudit platter)             (fruit platter)\n",
       "1        (fruit platter)            (crudit platter)\n",
       "2       (crudit platter)          (sandwich platter)\n",
       "3     (sandwich platter)            (crudit platter)\n",
       "4  (scottish shortbread)  (assorted holiday cookies)"
      ]
     },
     "execution_count": 179,
     "metadata": {},
     "output_type": "execute_result"
    }
   ],
   "source": [
    "import re\n",
    "\n",
    "def extract_frozenset_contents(frozenset_string):\n",
    "    \"\"\"Extract contents from a nested frozenset string and rebuild a flat frozenset.\"\"\"\n",
    "    try:\n",
    "        # Use regex to extract all items within single quotes\n",
    "        items = re.findall(r\"\\{'(.*?)'\\}\", frozenset_string)\n",
    "        # Return a frozenset of these items (this avoids returning tuples)\n",
    "        return frozenset(items)\n",
    "    except Exception as e:\n",
    "        print(f\"Error processing: {frozenset_string} -> {e}\")\n",
    "        return frozenset()\n",
    "\n",
    "# Apply the extraction function to antecedents and consequents\n",
    "rules_products['antecedents'] = rules_products['antecedents'].apply(extract_frozenset_contents)\n",
    "rules_products['consequents'] = rules_products['consequents'].apply(extract_frozenset_contents)\n",
    "\n",
    "# Check the results\n",
    "rules_products[['antecedents', 'consequents']].head()\n"
   ]
  },
  {
   "cell_type": "code",
   "execution_count": 180,
   "metadata": {},
   "outputs": [],
   "source": [
    "def recommend_products(input_products, rules_products_df, rules_product_types_df, transactions_df, top_n=5, popular_n=3):\n",
    "    recommendations = []\n",
    "    \n",
    "    # Preprocess input products\n",
    "    preprocessed_input_products = [preprocess_product_name(product) for product in input_products]\n",
    "    \n",
    "    # Convert preprocessed input_products to a frozenset to match the format in the rules dataframe\n",
    "    input_frozenset = frozenset(preprocessed_input_products)\n",
    "    \n",
    "    # Step 1: Try to find product-level associations\n",
    "    matching_rules = rules_products_df[rules_products_df['antecedents'] == input_frozenset]\n",
    "    \n",
    "    if matching_rules.empty:\n",
    "        # Step 2: If no product-level associations, fallback to product type associations\n",
    "        \n",
    "        # Extract the product type of the input products\n",
    "        input_product_types = transactions_df[transactions_df['Product'].apply(preprocess_product_name).isin(preprocessed_input_products)]['product_type'].unique()\n",
    "        \n",
    "        if len(input_product_types) == 0:\n",
    "            return recommendations  # No valid product types found\n",
    "        \n",
    "        # Convert product types to frozensets\n",
    "        input_product_types_frozenset = frozenset(input_product_types)\n",
    "        \n",
    "        # Find matching product type-level rules\n",
    "        matching_type_rules = rules_product_types_df[rules_product_types_df['antecedents'] == input_product_types_frozenset]\n",
    "        \n",
    "        if not matching_type_rules.empty:\n",
    "            # Sort the matching product type rules by lift, confidence, or another metric to get the top N recommendations\n",
    "            sorted_type_rules = matching_type_rules.sort_values(by='lift', ascending=False).head(top_n)\n",
    "            \n",
    "            # Extract the recommended product types (consequents) from the sorted rules\n",
    "            for _, rule in sorted_type_rules.iterrows():\n",
    "                recommendations.append((rule['consequents'], rule['lift'], rule['confidence']))\n",
    "            \n",
    "            # Step 3: Recommend popular products within the same product type bought around the same date\n",
    "            for consequent in sorted_type_rules['consequents']:\n",
    "                popular_products_within_type = recommend_popular_products_within_type(consequent, transactions_df, popular_n)\n",
    "                recommendations.extend(popular_products_within_type)\n",
    "    \n",
    "        else:\n",
    "            # If no matching product type-level rules, fallback to just recommending the most popular products\n",
    "            recommendations.extend(recommend_popular_products(transactions_df, top_n))\n",
    "    \n",
    "    else:\n",
    "        # Sort the matching product-level rules by lift (and optionally other metrics)\n",
    "        sorted_rules = matching_rules.sort_values(by='lift', ascending=False).head(top_n)\n",
    "        \n",
    "        # Extract the recommended products (consequents) from the sorted rules\n",
    "        for _, rule in sorted_rules.iterrows():\n",
    "            recommendations.append((rule['consequents'], rule['lift'], rule['confidence']))\n",
    "    \n",
    "    return recommendations\n"
   ]
  },
  {
   "cell_type": "code",
   "execution_count": 181,
   "metadata": {},
   "outputs": [
    {
     "name": "stdout",
     "output_type": "stream",
     "text": [
      "9Inch Pumpkin Pie\n",
      "Blueberry Pie\n",
      "12 Dinner Rolls\n",
      "Raspberry Pie\n"
     ]
    }
   ],
   "source": [
    "# Example usage\n",
    "input_products = ['apple pie']  # Input from the user or current shopping cart\n",
    "recommendations = recommend_products(input_products, rules_products, rules_product_types, df_with_counts, top_n=5, popular_n=3)\n",
    "\n",
    "# Print only the product names or product types, capitalized\n",
    "for rec in recommendations:\n",
    "    product_names = [product.title() for product in rec[0]]  # Extract product names and capitalize them\n",
    "    print(\", \".join(product_names))  # Join multiple products if needed\n"
   ]
  },
  {
   "cell_type": "code",
   "execution_count": 182,
   "metadata": {},
   "outputs": [
    {
     "name": "stdout",
     "output_type": "stream",
     "text": [
      " * Serving Flask app '__main__'\n",
      " * Debug mode: on\n"
     ]
    },
    {
     "name": "stderr",
     "output_type": "stream",
     "text": [
      "WARNING: This is a development server. Do not use it in a production deployment. Use a production WSGI server instead.\n",
      " * Running on http://127.0.0.1:5004\n",
      "Press CTRL+C to quit\n",
      "127.0.0.1 - - [15/Aug/2024 00:26:48] \"GET / HTTP/1.1\" 200 -\n",
      "127.0.0.1 - - [15/Aug/2024 00:26:48] \"GET /static/styles.css HTTP/1.1\" 304 -\n",
      "127.0.0.1 - - [15/Aug/2024 00:26:48] \"GET /static/styles.css HTTP/1.1\" 304 -\n"
     ]
    }
   ],
   "source": [
    "from flask import Flask, render_template, request, jsonify\n",
    "import os\n",
    "\n",
    "app = Flask(__name__)\n",
    "\n",
    "@app.route('/')\n",
    "def index():\n",
    "    return render_template('index.html')\n",
    "\n",
    "@app.route('/recommend', methods=['POST'])\n",
    "def recommend():\n",
    "    input_products = request.form['products'].split(',')\n",
    "    input_products = [product.strip() for product in input_products]\n",
    "    \n",
    "    # Call the recommendation function\n",
    "    recommendations = recommend_products(input_products, rules_products, rules_product_types, df_with_counts, top_n=5, popular_n=3)\n",
    "    \n",
    "    # Simplify the recommendations to just product names or product types, capitalized\n",
    "    simplified_recommendations = []\n",
    "    for rec in recommendations:\n",
    "        product_names = [product.title() for product in rec[0]]  # Capitalize first letter of each word\n",
    "        simplified_recommendations.extend(product_names)  # Add to the list\n",
    "\n",
    "    return render_template('recommend.html', recommendations=simplified_recommendations)\n",
    "\n",
    "if __name__ == '__main__':\n",
    "    app.run(debug=True, port=5004, use_reloader=False)\n"
   ]
  }
 ],
 "metadata": {
  "kernelspec": {
   "display_name": "THE_ONE",
   "language": "python",
   "name": "the_one"
  },
  "language_info": {
   "codemirror_mode": {
    "name": "ipython",
    "version": 3
   },
   "file_extension": ".py",
   "mimetype": "text/x-python",
   "name": "python",
   "nbconvert_exporter": "python",
   "pygments_lexer": "ipython3",
   "version": "3.9.18"
  }
 },
 "nbformat": 4,
 "nbformat_minor": 2
}
